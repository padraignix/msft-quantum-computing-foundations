{
 "cells": [
  {
   "cell_type": "code",
   "execution_count": 1,
   "metadata": {},
   "outputs": [
    {
     "output_type": "stream",
     "name": "stdout",
     "text": [
      "Requirement already satisfied: azure-quantum in c:\\users\\padra\\anaconda3\\lib\\site-packages (0.15.2101.126941)\nRequirement already satisfied: msrestazure in c:\\users\\padra\\anaconda3\\lib\\site-packages (from azure-quantum) (0.6.4)\nRequirement already satisfied: azure-storage-blob in c:\\users\\padra\\anaconda3\\lib\\site-packages (from azure-quantum) (12.7.1)\nRequirement already satisfied: msal in c:\\users\\padra\\anaconda3\\lib\\site-packages (from azure-quantum) (1.8.0)\nRequirement already satisfied: azure-devtools in c:\\users\\padra\\anaconda3\\lib\\site-packages (from azure-quantum) (1.2.0)\nRequirement already satisfied: adal<2.0.0,>=0.6.0 in c:\\users\\padra\\anaconda3\\lib\\site-packages (from msrestazure->azure-quantum) (1.2.6)\nRequirement already satisfied: six in c:\\users\\padra\\anaconda3\\lib\\site-packages (from msrestazure->azure-quantum) (1.15.0)\nRequirement already satisfied: msrest<2.0.0,>=0.6.0 in c:\\users\\padra\\anaconda3\\lib\\site-packages (from msrestazure->azure-quantum) (0.6.21)\nRequirement already satisfied: cryptography>=2.1.4 in c:\\users\\padra\\anaconda3\\lib\\site-packages (from azure-storage-blob->azure-quantum) (3.1.1)\nRequirement already satisfied: azure-core<2.0.0,>=1.10.0 in c:\\users\\padra\\anaconda3\\lib\\site-packages (from azure-storage-blob->azure-quantum) (1.10.0)\nRequirement already satisfied: PyJWT[crypto]<2,>=1.0.0 in c:\\users\\padra\\anaconda3\\lib\\site-packages (from msal->azure-quantum) (1.7.1)\nRequirement already satisfied: requests<3,>=2.0.0 in c:\\users\\padra\\anaconda3\\lib\\site-packages (from msal->azure-quantum) (2.24.0)\nRequirement already satisfied: vcrpy>=1.11.0 in c:\\users\\padra\\anaconda3\\lib\\site-packages (from azure-devtools->azure-quantum) (4.1.1)\nRequirement already satisfied: ConfigArgParse>=0.12.0 in c:\\users\\padra\\anaconda3\\lib\\site-packages (from azure-devtools->azure-quantum) (1.2.3)\nRequirement already satisfied: python-dateutil<3,>=2.1.0 in c:\\users\\padra\\anaconda3\\lib\\site-packages (from adal<2.0.0,>=0.6.0->msrestazure->azure-quantum) (2.8.1)\nRequirement already satisfied: certifi>=2017.4.17 in c:\\users\\padra\\anaconda3\\lib\\site-packages (from msrest<2.0.0,>=0.6.0->msrestazure->azure-quantum) (2020.6.20)\nRequirement already satisfied: requests-oauthlib>=0.5.0 in c:\\users\\padra\\anaconda3\\lib\\site-packages (from msrest<2.0.0,>=0.6.0->msrestazure->azure-quantum) (1.3.0)\nRequirement already satisfied: isodate>=0.6.0 in c:\\users\\padra\\anaconda3\\lib\\site-packages (from msrest<2.0.0,>=0.6.0->msrestazure->azure-quantum) (0.6.0)\nRequirement already satisfied: cffi!=1.11.3,>=1.8 in c:\\users\\padra\\anaconda3\\lib\\site-packages (from cryptography>=2.1.4->azure-storage-blob->azure-quantum) (1.14.3)\nRequirement already satisfied: chardet<4,>=3.0.2 in c:\\users\\padra\\anaconda3\\lib\\site-packages (from requests<3,>=2.0.0->msal->azure-quantum) (3.0.4)\nRequirement already satisfied: idna<3,>=2.5 in c:\\users\\padra\\anaconda3\\lib\\site-packages (from requests<3,>=2.0.0->msal->azure-quantum) (2.10)\nRequirement already satisfied: urllib3!=1.25.0,!=1.25.1,<1.26,>=1.21.1 in c:\\users\\padra\\anaconda3\\lib\\site-packages (from requests<3,>=2.0.0->msal->azure-quantum) (1.25.11)\nRequirement already satisfied: PyYAML in c:\\users\\padra\\anaconda3\\lib\\site-packages (from vcrpy>=1.11.0->azure-devtools->azure-quantum) (5.3.1)\nRequirement already satisfied: yarl; python_version >= \"3.6\" in c:\\users\\padra\\anaconda3\\lib\\site-packages (from vcrpy>=1.11.0->azure-devtools->azure-quantum) (1.6.3)\nRequirement already satisfied: wrapt in c:\\users\\padra\\anaconda3\\lib\\site-packages (from vcrpy>=1.11.0->azure-devtools->azure-quantum) (1.11.2)\nRequirement already satisfied: oauthlib>=3.0.0 in c:\\users\\padra\\anaconda3\\lib\\site-packages (from requests-oauthlib>=0.5.0->msrest<2.0.0,>=0.6.0->msrestazure->azure-quantum) (3.1.0)\nRequirement already satisfied: pycparser in c:\\users\\padra\\anaconda3\\lib\\site-packages (from cffi!=1.11.3,>=1.8->cryptography>=2.1.4->azure-storage-blob->azure-quantum) (2.20)\nRequirement already satisfied: multidict>=4.0 in c:\\users\\padra\\anaconda3\\lib\\site-packages (from yarl; python_version >= \"3.6\"->vcrpy>=1.11.0->azure-devtools->azure-quantum) (5.1.0)\nNote: you may need to restart the kernel to use updated packages.\n"
     ]
    }
   ],
   "source": [
    "pip install azure-quantum"
   ]
  },
  {
   "cell_type": "code",
   "execution_count": 8,
   "metadata": {},
   "outputs": [
    {
     "output_type": "execute_result",
     "data": {
      "text/plain": [
       "<msrest.authentication.BasicTokenAuthentication at 0x204b23f63d0>"
      ]
     },
     "metadata": {},
     "execution_count": 8
    }
   ],
   "source": [
    "from azure.quantum import Workspace\n",
    "\n",
    "# Copy the settings for your workspace below\n",
    "workspace = Workspace(\n",
    "    subscription_id=    \"f972c3c0-1413-449c-b4e9-33e27d60f573\", # add your subscription_id\n",
    "    resource_group=     \"Quantum1\", # add your resource_group\n",
    "    name=               \"quantum-computing-foundations\", # add your workspace name\n",
    "    location=           \"eastus\"  # add your workspace location (for example, \"westus\")\n",
    ")\n",
    "\n",
    "workspace.login()"
   ]
  },
  {
   "cell_type": "code",
   "execution_count": 3,
   "metadata": {},
   "outputs": [],
   "source": [
    "from typing import List\n",
    "from azure.quantum.optimization import Problem, ProblemType, Term\n",
    "\n",
    "def createProblemForMineralWeights(mineralWeights: List[int]) -> Problem:\n",
    "    terms: List[Term] = []\n",
    "\n",
    "    # Expand the squared summation\n",
    "    for i in range(len(mineralWeights)):\n",
    "        for j in range(len(mineralWeights)):\n",
    "            if i == j:\n",
    "                # Skip the terms where i == j as they form constant terms in an Ising problem and can be disregarded.\n",
    "                continue\n",
    "\n",
    "            terms.append(\n",
    "                Term(\n",
    "                    c = mineralWeights[i] * mineralWeights[j],\n",
    "                    indices = [i, j]\n",
    "                )\n",
    "            )\n",
    "\n",
    "    # Return an Ising-type problem\n",
    "    return Problem(name=\"Freight Balancing Problem\", problem_type=ProblemType.ising, terms=terms)"
   ]
  },
  {
   "cell_type": "code",
   "execution_count": 4,
   "metadata": {},
   "outputs": [],
   "source": [
    "# This array contains the weights of all the mineral chunks\n",
    "mineralWeights = [1, 5, 9, 21, 35, 5, 3, 5, 10, 11]\n",
    "\n",
    "# Create a problem for the given list of minerals:\n",
    "problem = createProblemForMineralWeights(mineralWeights)"
   ]
  },
  {
   "cell_type": "code",
   "execution_count": 9,
   "metadata": {},
   "outputs": [
    {
     "output_type": "stream",
     "name": "stdout",
     "text": [
      "Submitting problem...\n",
      "..Result in 9.481752872467041 seconds:  {'version': '1.0', 'configuration': {'0': 1, '1': -1, '2': 1, '3': 1, '4': -1, '5': -1, '6': -1, '7': -1, '8': 1, '9': 1}, 'cost': -2052.0, 'parameters': {'all_betas': [0.00020408163265306123, 0.0010031845282727856, 0.004931258069052868, 0.024240112818991428, 0.00020408163265306123, 0.00041416312947479666, 0.0008405023793001501, 0.0017057149691356173, 0.0034615768230851457, 0.007024921700835206, 0.014256371424073268, 0.028931870679351317, 0.058714319100389226, 0.00020408163265306123, 0.0003216601955060876, 0.000506979878727771, 0.0007990687098552142, 0.0012594401274306443, 0.001985047612326009, 0.003128702935041415, 0.0049312580690528685, 0.007772328229454337, 0.012250238227336452, 0.019308028713685834, 0.030432059025318557, 0.04796503207311015, 0.07559936381105262, 0.00020408163265306123, 0.0002853639172320586, 0.0003990195697643234, 0.0005579423586529702, 0.000780161423569038, 0.0010908866075247, 0.0015253684103382742, 0.0021328970135012235, 0.0029823940494438134, 0.004170231478526455, 0.0058311645933360684, 0.008153619454858395, 0.011401069057563778, 0.015941923261808107, 0.022291323383991948, 0.031169582869598398, 0.043583903904173556, 0.06094264037716683, 0.08521506986401543, 0.00020408163265306123, 0.0002661133962019146, 0.0003470000642267741, 0.0004524726913109797, 0.0005900043184095882, 0.0007693394594342792, 0.0010031845282727856, 0.001308108124995844, 0.0017057149691356171, 0.002224176656606702, 0.002900227698828882, 0.0037817682692016645, 0.004931258069052867, 0.006430141778288393, 0.0083846196467327, 0.010933172089261346, 0.01425637142407326, 0.018589675944162696, 0.02424011281899142, 0.031608031858238926, 0.04121547145476594, 0.05374314651596505, 0.0700786790855087, 0.09137948893466513], 'replicas': 70, 'sweeps': 600}}\n"
     ]
    }
   ],
   "source": [
    "from azure.quantum.optimization import ParallelTempering\n",
    "import time\n",
    "\n",
    "# Instantiate a solver to solve the problem.\n",
    "solver = ParallelTempering(workspace, timeout=100)\n",
    "\n",
    "# Optimize the problem\n",
    "print('Submitting problem...')\n",
    "start = time.time()\n",
    "result = solver.optimize(problem)\n",
    "timeElapsed = time.time() - start\n",
    "print(f'Result in {timeElapsed} seconds: ', result)"
   ]
  },
  {
   "cell_type": "code",
   "execution_count": 10,
   "metadata": {},
   "outputs": [
    {
     "output_type": "stream",
     "name": "stdout",
     "text": [
      "Mineral chunk 0 with weight 1 was placed on Container A\nMineral chunk 1 with weight 5 was placed on Container B\nMineral chunk 2 with weight 9 was placed on Container A\nMineral chunk 3 with weight 21 was placed on Container A\nMineral chunk 4 with weight 35 was placed on Container B\nMineral chunk 5 with weight 5 was placed on Container B\nMineral chunk 6 with weight 3 was placed on Container B\nMineral chunk 7 with weight 5 was placed on Container B\nMineral chunk 8 with weight 10 was placed on Container A\nMineral chunk 9 with weight 11 was placed on Container A\n\nTotal weights: \n\tContainer A: 52 tons \n\tContainer B: 53 tons\n"
     ]
    }
   ],
   "source": [
    "def printResultSummary(result):\n",
    "    # Print a summary of the result\n",
    "    containerAWeight = 0\n",
    "    containerBWeight = 0\n",
    "    for chunk in result['configuration']:\n",
    "        chunkAssignment = result['configuration'][chunk]\n",
    "        chunkWeight = mineralWeights[int(chunk)]\n",
    "        container = ''\n",
    "        if chunkAssignment == 1:\n",
    "            container = 'A'\n",
    "            containerAWeight += chunkWeight\n",
    "        else:\n",
    "            container = 'B'\n",
    "            containerBWeight += chunkWeight\n",
    "\n",
    "        print(f'Mineral chunk {chunk} with weight {chunkWeight} was placed on Container {container}')\n",
    "\n",
    "    print(f'\\nTotal weights: \\n\\tContainer A: {containerAWeight} tons \\n\\tContainer B: {containerBWeight} tons')\n",
    "\n",
    "printResultSummary(result)"
   ]
  },
  {
   "cell_type": "code",
   "execution_count": 11,
   "metadata": {},
   "outputs": [
    {
     "output_type": "stream",
     "name": "stdout",
     "text": [
      "The problem has 90 terms for 10 mineral chunks:\n[{'c': 5, 'ids': [0, 1]}, {'c': 9, 'ids': [0, 2]}, {'c': 21, 'ids': [0, 3]}, {'c': 35, 'ids': [0, 4]}, {'c': 5, 'ids': [0, 5]}, {'c': 3, 'ids': [0, 6]}, {'c': 5, 'ids': [0, 7]}, {'c': 10, 'ids': [0, 8]}, {'c': 11, 'ids': [0, 9]}, {'c': 5, 'ids': [1, 0]}, {'c': 45, 'ids': [1, 2]}, {'c': 105, 'ids': [1, 3]}, {'c': 175, 'ids': [1, 4]}, {'c': 25, 'ids': [1, 5]}, {'c': 15, 'ids': [1, 6]}, {'c': 25, 'ids': [1, 7]}, {'c': 50, 'ids': [1, 8]}, {'c': 55, 'ids': [1, 9]}, {'c': 9, 'ids': [2, 0]}, {'c': 45, 'ids': [2, 1]}, {'c': 189, 'ids': [2, 3]}, {'c': 315, 'ids': [2, 4]}, {'c': 45, 'ids': [2, 5]}, {'c': 27, 'ids': [2, 6]}, {'c': 45, 'ids': [2, 7]}, {'c': 90, 'ids': [2, 8]}, {'c': 99, 'ids': [2, 9]}, {'c': 21, 'ids': [3, 0]}, {'c': 105, 'ids': [3, 1]}, {'c': 189, 'ids': [3, 2]}, {'c': 735, 'ids': [3, 4]}, {'c': 105, 'ids': [3, 5]}, {'c': 63, 'ids': [3, 6]}, {'c': 105, 'ids': [3, 7]}, {'c': 210, 'ids': [3, 8]}, {'c': 231, 'ids': [3, 9]}, {'c': 35, 'ids': [4, 0]}, {'c': 175, 'ids': [4, 1]}, {'c': 315, 'ids': [4, 2]}, {'c': 735, 'ids': [4, 3]}, {'c': 175, 'ids': [4, 5]}, {'c': 105, 'ids': [4, 6]}, {'c': 175, 'ids': [4, 7]}, {'c': 350, 'ids': [4, 8]}, {'c': 385, 'ids': [4, 9]}, {'c': 5, 'ids': [5, 0]}, {'c': 25, 'ids': [5, 1]}, {'c': 45, 'ids': [5, 2]}, {'c': 105, 'ids': [5, 3]}, {'c': 175, 'ids': [5, 4]}, {'c': 15, 'ids': [5, 6]}, {'c': 25, 'ids': [5, 7]}, {'c': 50, 'ids': [5, 8]}, {'c': 55, 'ids': [5, 9]}, {'c': 3, 'ids': [6, 0]}, {'c': 15, 'ids': [6, 1]}, {'c': 27, 'ids': [6, 2]}, {'c': 63, 'ids': [6, 3]}, {'c': 105, 'ids': [6, 4]}, {'c': 15, 'ids': [6, 5]}, {'c': 15, 'ids': [6, 7]}, {'c': 30, 'ids': [6, 8]}, {'c': 33, 'ids': [6, 9]}, {'c': 5, 'ids': [7, 0]}, {'c': 25, 'ids': [7, 1]}, {'c': 45, 'ids': [7, 2]}, {'c': 105, 'ids': [7, 3]}, {'c': 175, 'ids': [7, 4]}, {'c': 25, 'ids': [7, 5]}, {'c': 15, 'ids': [7, 6]}, {'c': 50, 'ids': [7, 8]}, {'c': 55, 'ids': [7, 9]}, {'c': 10, 'ids': [8, 0]}, {'c': 50, 'ids': [8, 1]}, {'c': 90, 'ids': [8, 2]}, {'c': 210, 'ids': [8, 3]}, {'c': 350, 'ids': [8, 4]}, {'c': 50, 'ids': [8, 5]}, {'c': 30, 'ids': [8, 6]}, {'c': 50, 'ids': [8, 7]}, {'c': 110, 'ids': [8, 9]}, {'c': 11, 'ids': [9, 0]}, {'c': 55, 'ids': [9, 1]}, {'c': 99, 'ids': [9, 2]}, {'c': 231, 'ids': [9, 3]}, {'c': 385, 'ids': [9, 4]}, {'c': 55, 'ids': [9, 5]}, {'c': 33, 'ids': [9, 6]}, {'c': 55, 'ids': [9, 7]}, {'c': 110, 'ids': [9, 8]}]\n"
     ]
    }
   ],
   "source": [
    "print(f'The problem has {len(problem.terms)} terms for {len(mineralWeights)} mineral chunks:')\n",
    "print(problem.terms)"
   ]
  },
  {
   "cell_type": "code",
   "execution_count": 12,
   "metadata": {},
   "outputs": [],
   "source": [
    "def createSimplifiedProblemForMineralWeights(mineralWeights: List[int]) -> Problem:\n",
    "    terms: List[Term] = []\n",
    "\n",
    "    # Expand the squared summation\n",
    "    for i in range(len(mineralWeights)-1):\n",
    "        for j in range(i+1, len(mineralWeights)):\n",
    "            terms.append(\n",
    "                Term(\n",
    "                    w = mineralWeights[i] * mineralWeights[j],\n",
    "                    indices = [i, j]\n",
    "                )\n",
    "            )\n",
    "\n",
    "    # Return an Ising-type problem\n",
    "    return Problem(name=\"Freight Balancing Problem (Simplified)\", problem_type=ProblemType.ising, terms=terms)"
   ]
  },
  {
   "cell_type": "code",
   "execution_count": 13,
   "metadata": {},
   "outputs": [
    {
     "output_type": "stream",
     "name": "stdout",
     "text": [
      "The simplified problem has 45 terms\n"
     ]
    }
   ],
   "source": [
    "# Create the simplified problem\n",
    "simplifiedProblem = createSimplifiedProblemForMineralWeights(mineralWeights)\n",
    "print(f'The simplified problem has {len(simplifiedProblem.terms)} terms')\n"
   ]
  },
  {
   "cell_type": "code",
   "execution_count": 14,
   "metadata": {},
   "outputs": [
    {
     "output_type": "stream",
     "name": "stdout",
     "text": [
      "Submitting simplified problem...\n",
      "...Result in 9.035611629486084 seconds:  {'version': '1.0', 'configuration': {'0': 1, '1': -1, '2': 1, '3': 1, '4': -1, '5': -1, '6': -1, '7': -1, '8': 1, '9': 1}, 'cost': -1026.0, 'parameters': {'all_betas': [0.00040816326530612246, 0.002006369056545571, 0.009862516138105735, 0.048480225637982856, 0.00040816326530612246, 0.0008283262589495933, 0.0016810047586003002, 0.0034114299382712347, 0.006923153646170291, 0.014049843401670412, 0.028512742848146536, 0.05786374135870263, 0.11742863820077845, 0.00040816326530612246, 0.0006433203910121752, 0.001013959757455542, 0.0015981374197104284, 0.0025188802548612886, 0.003970095224652018, 0.00625740587008283, 0.009862516138105737, 0.015544656458908674, 0.024500476454672904, 0.03861605742737167, 0.060864118050637114, 0.0959300641462203, 0.15119872762210523, 0.00040816326530612246, 0.0005707278344641172, 0.0007980391395286468, 0.0011158847173059405, 0.001560322847138076, 0.0021817732150494, 0.0030507368206765485, 0.004265794027002447, 0.005964788098887627, 0.00834046295705291, 0.011662329186672137, 0.01630723890971679, 0.022802138115127556, 0.03188384652361621, 0.044582646767983895, 0.062339165739196796, 0.08716780780834711, 0.12188528075433366, 0.17043013972803087, 0.00040816326530612246, 0.0005322267924038292, 0.0006940001284535482, 0.0009049453826219594, 0.0011800086368191764, 0.0015386789188685584, 0.002006369056545571, 0.002616216249991688, 0.0034114299382712343, 0.004448353313213404, 0.005800455397657764, 0.007563536538403329, 0.009862516138105733, 0.012860283556576787, 0.0167692392934654, 0.021866344178522693, 0.02851274284814652, 0.03717935188832539, 0.04848022563798284, 0.06321606371647785, 0.08243094290953187, 0.1074862930319301, 0.1401573581710174, 0.18275897786933026], 'replicas': 70, 'sweeps': 600}}\n",
      "Mineral chunk 0 with weight 1 was placed on Container A\n",
      "Mineral chunk 1 with weight 5 was placed on Container B\n",
      "Mineral chunk 2 with weight 9 was placed on Container A\n",
      "Mineral chunk 3 with weight 21 was placed on Container A\n",
      "Mineral chunk 4 with weight 35 was placed on Container B\n",
      "Mineral chunk 5 with weight 5 was placed on Container B\n",
      "Mineral chunk 6 with weight 3 was placed on Container B\n",
      "Mineral chunk 7 with weight 5 was placed on Container B\n",
      "Mineral chunk 8 with weight 10 was placed on Container A\n",
      "Mineral chunk 9 with weight 11 was placed on Container A\n",
      "\n",
      "Total weights: \n",
      "\tContainer A: 52 tons \n",
      "\tContainer B: 53 tons\n"
     ]
    }
   ],
   "source": [
    "# Optimize the problem\n",
    "print('Submitting simplified problem...')\n",
    "start = time.time()\n",
    "simplifiedResult = solver.optimize(simplifiedProblem)\n",
    "timeElapsedSimplified = time.time() - start\n",
    "print(f'Result in {timeElapsedSimplified} seconds: ', simplifiedResult)\n",
    "printResultSummary(simplifiedResult)"
   ]
  },
  {
   "cell_type": "code",
   "execution_count": null,
   "metadata": {},
   "outputs": [],
   "source": []
  }
 ],
 "metadata": {
  "kernelspec": {
   "display_name": "Python 3",
   "language": "python",
   "name": "python3"
  },
  "language_info": {
   "codemirror_mode": {
    "name": "ipython",
    "version": 3
   },
   "file_extension": ".py",
   "mimetype": "text/x-python",
   "name": "python",
   "nbconvert_exporter": "python",
   "pygments_lexer": "ipython3",
   "version": "3.8.5-final"
  }
 },
 "nbformat": 4,
 "nbformat_minor": 4
}