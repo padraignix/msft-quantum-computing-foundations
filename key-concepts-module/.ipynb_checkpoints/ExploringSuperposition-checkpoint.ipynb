{
 "cells": [
  {
   "cell_type": "code",
   "execution_count": null,
   "metadata": {},
   "outputs": [],
   "source": [
    "    operation SampleQuantumRandomNumberGenerator() : Result {\n",
    "        use q = Qubit(); // Allocate a qubit.\n",
    "        H(q);            // Put the qubit to superposition. It now has a 50% chance of being 0 or 1.\n",
    "        let r = M(q);    // Measure the qubit value.\n",
    "        Reset(q);\n",
    "        return r;\n",
    "    }\n",
    "}"
   ]
  }
 ],
 "metadata": {
  "kernelspec": {
   "display_name": "Q#",
   "language": "qsharp",
   "name": "iqsharp"
  },
  "language_info": {
   "file_extension": ".qs",
   "mimetype": "text/x-qsharp",
   "name": "qsharp",
   "version": "0.14"
  }
 },
 "nbformat": 4,
 "nbformat_minor": 4
}
